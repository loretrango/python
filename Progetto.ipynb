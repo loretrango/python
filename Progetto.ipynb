{
  "cells": [
    {
      "cell_type": "markdown",
      "metadata": {
        "colab_type": "text",
        "id": "view-in-github"
      },
      "source": [
        "<a href=\"https://colab.research.google.com/github/loretrango/python/blob/main/Progetto.ipynb\" target=\"_parent\"><img src=\"https://colab.research.google.com/assets/colab-badge.svg\" alt=\"Open In Colab\"/></a>"
      ]
    },
    {
      "cell_type": "markdown",
      "metadata": {
        "id": "14iwybLXCZDN"
      },
      "source": [
        "**Progetto di prova**"
      ]
    },
    {
      "cell_type": "code",
      "execution_count": 1,
      "metadata": {
        "colab": {
          "base_uri": "https://localhost:8080/"
        },
        "id": "CqqiM4ThAyfo",
        "outputId": "c7ffb343-37cf-4d5c-b489-44fd09ae7b02"
      },
      "outputs": [
        {
          "name": "stdout",
          "output_type": "stream",
          "text": [
            "0\n",
            "pippo\n",
            "1\n",
            "pippo\n",
            "2\n",
            "pippo\n",
            "3\n",
            "pippo\n",
            "4\n",
            "pippo\n",
            "5\n",
            "pippo\n",
            "6\n",
            "pippo\n",
            "7\n",
            "pippo\n",
            "8\n",
            "pippo\n",
            "9\n",
            "pippo\n",
            "1.7320508075688772\n"
          ]
        }
      ],
      "source": [
        "import  math\n",
        "for i in range(10):\n",
        "   print(i)\n",
        "   print(\"pippo\")\n",
        "   i = i+ 1\n",
        "\n",
        "a = math.sqrt(3)\n",
        "print (a)"
      ]
    },
    {
      "cell_type": "code",
      "execution_count": 6,
      "metadata": {
        "id": "huhLMa_QC5eQ"
      },
      "outputs": [],
      "source": []
    },
    {
      "cell_type": "markdown",
      "metadata": {
        "id": "fqb8ZKuyC3KN"
      },
      "source": [
        "Calcola le dimensioni di un parallelepipedo\n",
        "**bold text**"
      ]
    },
    {
      "cell_type": "code",
      "execution_count": 2,
      "metadata": {
        "colab": {
          "base_uri": "https://localhost:8080/",
          "height": 361
        },
        "id": "Cgz5zRwyCrHK",
        "outputId": "83482e23-b172-435c-afb5-50e286c2c0a8"
      },
      "outputs": [
        {
          "name": "stdout",
          "output_type": "stream",
          "text": [
            "PARALLELEPIPEDO\n",
            "\n",
            "Perimetro di base:  14.0\n",
            "\n",
            "Altre aree laterali:\n",
            "Profondità x altezza:  20.0\n",
            "Larghezza x altezza:  15.0\n",
            "\n",
            "Area di base: \t 12.0\n",
            "Area laterale: \t 70.0\n",
            "Area totale: \t 82.0\n",
            "\n",
            "Lunghezza complessiva di tutti gli spigoli:  48.0\n"
          ]
        }
      ],
      "source": [
        "def calcola_parallelepipedo():\n",
        "    print(\"PARALLELEPIPEDO\")\n",
        "    larghezza=float(input(\"Inserisci la larghezza: \"))\n",
        "    profondita=float(input(\"Inserisci la profonà: \"))\n",
        "    altezza=float(input(\"Inserisci l'altezza: \"))\n",
        "    print()\n",
        "\n",
        "    perimetro_base=2*larghezza+2*profondita\n",
        "    print(\"Perimetro di base: \",perimetro_base)\n",
        "    print()\n",
        "\n",
        "    print(\"Altre aree laterali:\")\n",
        "    prof_per_alt= profondita*altezza\n",
        "    print(\"Profondità x altezza: \",prof_per_alt)\n",
        "    larg_per_alt= larghezza*altezza\n",
        "    print(\"Larghezza x altezza: \",larg_per_alt)\n",
        "\n",
        "    print()\n",
        "    area_base=larghezza*profondita\n",
        "    print(\"Area di base: \\t\",area_base)\n",
        "    area_laterale=perimetro_base*altezza\n",
        "    print(\"Area laterale: \\t\", area_laterale)\n",
        "    area_totale=area_base+area_laterale\n",
        "    print(\"Area totale: \\t\", area_totale)\n",
        "    print()\n",
        "\n",
        "    lunghezza_spigoli = larghezza*4 + profondita*4 + altezza*4\n",
        "    print(\"Lunghezza complessiva di tutti gli spigoli: \", lunghezza_spigoli)\n",
        "\n",
        "calcola_parallelepipedo()"
      ]
    }
  ],
  "metadata": {
    "colab": {
      "authorship_tag": "ABX9TyNqJYlEY7jLyD6nbwLvpDgF",
      "include_colab_link": true,
      "provenance": []
    },
    "kernelspec": {
      "display_name": "Python 3",
      "name": "python3"
    },
    "language_info": {
      "codemirror_mode": {
        "name": "ipython",
        "version": 3
      },
      "file_extension": ".py",
      "mimetype": "text/x-python",
      "name": "python",
      "nbconvert_exporter": "python",
      "pygments_lexer": "ipython3",
      "version": "3.10.6"
    }
  },
  "nbformat": 4,
  "nbformat_minor": 0
}
