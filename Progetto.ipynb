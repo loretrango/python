{
  "nbformat": 4,
  "nbformat_minor": 0,
  "metadata": {
    "colab": {
      "provenance": [],
      "authorship_tag": "ABX9TyNqJYlEY7jLyD6nbwLvpDgF",
      "include_colab_link": true
    },
    "kernelspec": {
      "name": "python3",
      "display_name": "Python 3"
    },
    "language_info": {
      "name": "python"
    }
  },
  "cells": [
    {
      "cell_type": "markdown",
      "metadata": {
        "id": "view-in-github",
        "colab_type": "text"
      },
      "source": [
        "<a href=\"https://colab.research.google.com/github/loretrango/python/blob/main/Progetto.ipynb\" target=\"_parent\"><img src=\"https://colab.research.google.com/assets/colab-badge.svg\" alt=\"Open In Colab\"/></a>"
      ]
    },
    {
      "cell_type": "markdown",
      "source": [
        "**Progetto di prova**"
      ],
      "metadata": {
        "id": "14iwybLXCZDN"
      }
    },
    {
      "cell_type": "code",
      "execution_count": 6,
      "metadata": {
        "colab": {
          "base_uri": "https://localhost:8080/"
        },
        "id": "CqqiM4ThAyfo",
        "outputId": "c7ffb343-37cf-4d5c-b489-44fd09ae7b02"
      },
      "outputs": [
        {
          "output_type": "stream",
          "name": "stdout",
          "text": [
            "0\n",
            "Lorenzo\n",
            "1\n",
            "Lorenzo\n",
            "2\n",
            "Lorenzo\n",
            "3\n",
            "Lorenzo\n",
            "4\n",
            "Lorenzo\n",
            "5\n",
            "Lorenzo\n",
            "6\n",
            "Lorenzo\n",
            "7\n",
            "Lorenzo\n",
            "8\n",
            "Lorenzo\n",
            "9\n",
            "Lorenzo\n",
            "1.7320508075688772\n"
          ]
        }
      ],
      "source": [
        "import  math\n",
        "for i in range(10):\n",
        "   print(i)\n",
        "   print(\"Lorenzo\")\n",
        "   i = i+ 1\n",
        "\n",
        "a = math.sqrt(3)\n",
        "print (a)"
      ]
    },
    {
      "cell_type": "code",
      "source": [],
      "metadata": {
        "id": "huhLMa_QC5eQ"
      },
      "execution_count": 6,
      "outputs": []
    },
    {
      "cell_type": "markdown",
      "source": [
        "Calcola le dimensioni di un parallelepipedo\n",
        "**bold text**"
      ],
      "metadata": {
        "id": "fqb8ZKuyC3KN"
      }
    },
    {
      "cell_type": "code",
      "source": [
        "def calcola_parallelepipedo():\n",
        "    print(\"PARALLELEPIPEDO\")\n",
        "    larghezza=float(input(\"Inserisci la larghezza: \"))\n",
        "    profondita=float(input(\"Inserisci la profonà: \"))\n",
        "    altezza=float(input(\"Inserisci l'altezza: \"))\n",
        "    print()\n",
        "\n",
        "    perimetro_base=2*larghezza+2*profondita\n",
        "    print(\"Perimetro di base: \",perimetro_base)\n",
        "    print()\n",
        "\n",
        "    print(\"Altre aree laterali:\")\n",
        "    prof_per_alt= profondita*altezza\n",
        "    print(\"Profondità x altezza: \",prof_per_alt)\n",
        "    larg_per_alt= larghezza*altezza\n",
        "    print(\"Larghezza x altezza: \",larg_per_alt)\n",
        "\n",
        "    print()\n",
        "    area_base=larghezza*profondita\n",
        "    print(\"Area di base: \\t\",area_base)\n",
        "    area_laterale=perimetro_base*altezza\n",
        "    print(\"Area laterale: \\t\", area_laterale)\n",
        "    area_totale=area_base+area_laterale\n",
        "    print(\"Area totale: \\t\", area_totale)\n",
        "    print()\n",
        "\n",
        "    lunghezza_spigoli = larghezza*4 + profondita*4 + altezza*4\n",
        "    print(\"Lunghezza complessiva di tutti gli spigoli: \", lunghezza_spigoli)\n",
        "\n",
        "calcola_parallelepipedo()"
      ],
      "metadata": {
        "colab": {
          "base_uri": "https://localhost:8080/",
          "height": 361
        },
        "id": "Cgz5zRwyCrHK",
        "outputId": "83482e23-b172-435c-afb5-50e286c2c0a8"
      },
      "execution_count": 7,
      "outputs": [
        {
          "name": "stdout",
          "output_type": "stream",
          "text": [
            "PARALLELEPIPEDO\n",
            "Inserisci la larghezza: lo\n"
          ]
        },
        {
          "output_type": "error",
          "ename": "ValueError",
          "evalue": "ignored",
          "traceback": [
            "\u001b[0;31m---------------------------------------------------------------------------\u001b[0m",
            "\u001b[0;31mValueError\u001b[0m                                Traceback (most recent call last)",
            "\u001b[0;32m<ipython-input-7-b5ace6fe9fe4>\u001b[0m in \u001b[0;36m<cell line: 30>\u001b[0;34m()\u001b[0m\n\u001b[1;32m     28\u001b[0m     \u001b[0mprint\u001b[0m\u001b[0;34m(\u001b[0m\u001b[0;34m\"Lunghezza complessiva di tutti gli spigoli: \"\u001b[0m\u001b[0;34m,\u001b[0m \u001b[0mlunghezza_spigoli\u001b[0m\u001b[0;34m)\u001b[0m\u001b[0;34m\u001b[0m\u001b[0;34m\u001b[0m\u001b[0m\n\u001b[1;32m     29\u001b[0m \u001b[0;34m\u001b[0m\u001b[0m\n\u001b[0;32m---> 30\u001b[0;31m \u001b[0mcalcola_parallelepipedo\u001b[0m\u001b[0;34m(\u001b[0m\u001b[0;34m)\u001b[0m\u001b[0;34m\u001b[0m\u001b[0;34m\u001b[0m\u001b[0m\n\u001b[0m",
            "\u001b[0;32m<ipython-input-7-b5ace6fe9fe4>\u001b[0m in \u001b[0;36mcalcola_parallelepipedo\u001b[0;34m()\u001b[0m\n\u001b[1;32m      1\u001b[0m \u001b[0;32mdef\u001b[0m \u001b[0mcalcola_parallelepipedo\u001b[0m\u001b[0;34m(\u001b[0m\u001b[0;34m)\u001b[0m\u001b[0;34m:\u001b[0m\u001b[0;34m\u001b[0m\u001b[0;34m\u001b[0m\u001b[0m\n\u001b[1;32m      2\u001b[0m     \u001b[0mprint\u001b[0m\u001b[0;34m(\u001b[0m\u001b[0;34m\"PARALLELEPIPEDO\"\u001b[0m\u001b[0;34m)\u001b[0m\u001b[0;34m\u001b[0m\u001b[0;34m\u001b[0m\u001b[0m\n\u001b[0;32m----> 3\u001b[0;31m     \u001b[0mlarghezza\u001b[0m\u001b[0;34m=\u001b[0m\u001b[0mfloat\u001b[0m\u001b[0;34m(\u001b[0m\u001b[0minput\u001b[0m\u001b[0;34m(\u001b[0m\u001b[0;34m\"Inserisci la larghezza: \"\u001b[0m\u001b[0;34m)\u001b[0m\u001b[0;34m)\u001b[0m\u001b[0;34m\u001b[0m\u001b[0;34m\u001b[0m\u001b[0m\n\u001b[0m\u001b[1;32m      4\u001b[0m     \u001b[0mprofondita\u001b[0m\u001b[0;34m=\u001b[0m\u001b[0mfloat\u001b[0m\u001b[0;34m(\u001b[0m\u001b[0minput\u001b[0m\u001b[0;34m(\u001b[0m\u001b[0;34m\"Inserisci la profonà: \"\u001b[0m\u001b[0;34m)\u001b[0m\u001b[0;34m)\u001b[0m\u001b[0;34m\u001b[0m\u001b[0;34m\u001b[0m\u001b[0m\n\u001b[1;32m      5\u001b[0m     \u001b[0maltezza\u001b[0m\u001b[0;34m=\u001b[0m\u001b[0mfloat\u001b[0m\u001b[0;34m(\u001b[0m\u001b[0minput\u001b[0m\u001b[0;34m(\u001b[0m\u001b[0;34m\"Inserisci l'altezza: \"\u001b[0m\u001b[0;34m)\u001b[0m\u001b[0;34m)\u001b[0m\u001b[0;34m\u001b[0m\u001b[0;34m\u001b[0m\u001b[0m\n",
            "\u001b[0;31mValueError\u001b[0m: could not convert string to float: 'lo'"
          ]
        }
      ]
    }
  ]
}